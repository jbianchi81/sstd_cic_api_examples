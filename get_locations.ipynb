{
 "cells": [
  {
   "cell_type": "code",
   "execution_count": null,
   "metadata": {},
   "outputs": [],
   "source": [
    "from fewspiservice_api_client import getLocations, getTimeSeries, getAndParseLocations, locationsToDataFrame, parseLocations, getAndParseTimeSeries, valuesToDataFrame"
   ]
  },
  {
   "cell_type": "code",
   "execution_count": null,
   "metadata": {},
   "outputs": [],
   "source": [
    "locations_response = getLocations(filter_id=\"Mod_Hydro\")"
   ]
  },
  {
   "cell_type": "code",
   "execution_count": null,
   "metadata": {},
   "outputs": [],
   "source": [
    "len(locations_response[\"locations\"])"
   ]
  },
  {
   "cell_type": "code",
   "execution_count": null,
   "metadata": {},
   "outputs": [],
   "source": [
    "locations = parseLocations(locations_response[\"locations\"])"
   ]
  },
  {
   "cell_type": "code",
   "execution_count": null,
   "metadata": {},
   "outputs": [],
   "source": [
    "len(locations)"
   ]
  },
  {
   "cell_type": "code",
   "execution_count": null,
   "metadata": {},
   "outputs": [],
   "source": [
    "locations = getAndParseLocations(filter_id=\"Mod_Hydro\")"
   ]
  },
  {
   "cell_type": "code",
   "execution_count": null,
   "metadata": {},
   "outputs": [],
   "source": [
    "len(locations)"
   ]
  },
  {
   "cell_type": "code",
   "execution_count": null,
   "metadata": {},
   "outputs": [],
   "source": [
    "df = locationsToDataFrame(locations)\n",
    "df.to_csv(\"locations.csv\")"
   ]
  },
  {
   "cell_type": "code",
   "execution_count": null,
   "metadata": {},
   "outputs": [],
   "source": [
    "locations[0][\"id\"]"
   ]
  },
  {
   "cell_type": "code",
   "execution_count": null,
   "metadata": {},
   "outputs": [],
   "source": [
    "timeseries_response = getTimeSeries(\n",
    "    location_ids = locations[0][\"id\"],\n",
    "    filter_id = \"Mod_Hydro\",\n",
    "    document_format = \"PI_JSON\",\n",
    "    start_time = \"2024-06-02T00:00:00Z\",\n",
    "    end_time = \"2024-08-01T00:00:00Z\",\n",
    "    start_forecast_time = \"2024-07-02T00:00:00Z\",\n",
    "    end_forecast_time = \"2024-07-02T03:00:00Z\",\n",
    ")"
   ]
  },
  {
   "cell_type": "code",
   "execution_count": null,
   "metadata": {},
   "outputs": [],
   "source": [
    "len(timeseries_response[\"timeSeries\"])"
   ]
  },
  {
   "cell_type": "code",
   "execution_count": null,
   "metadata": {},
   "outputs": [],
   "source": [
    "timeseries_response[\"timeSeries\"][1]"
   ]
  },
  {
   "cell_type": "code",
   "execution_count": null,
   "metadata": {},
   "outputs": [],
   "source": [
    "timeseries = getAndParseTimeSeries(\n",
    "    location_ids = \"1\",\n",
    "    parameter_ids = \"Q.sim\",\n",
    "    filter_id = \"Mod_Hydro\",\n",
    "    document_format = \"PI_JSON\",\n",
    "    start_time = \"2024-06-02T00:00:00Z\",\n",
    "    end_time = \"2024-08-01T00:00:00Z\",\n",
    "    start_forecast_time = \"2024-07-02T00:00:00Z\",\n",
    "    end_forecast_time = \"2024-07-02T03:00:00Z\")"
   ]
  },
  {
   "cell_type": "code",
   "execution_count": null,
   "metadata": {},
   "outputs": [],
   "source": [
    "len(timeseries[0][\"data\"][\"values\"])"
   ]
  },
  {
   "cell_type": "code",
   "execution_count": null,
   "metadata": {},
   "outputs": [],
   "source": [
    "timeseries[0][\"data\"][\"values\"][0]"
   ]
  },
  {
   "cell_type": "code",
   "execution_count": null,
   "metadata": {},
   "outputs": [],
   "source": [
    "ts_df = valuesToDataFrame(timeseries[0][\"data\"][\"values\"])"
   ]
  },
  {
   "cell_type": "code",
   "execution_count": null,
   "metadata": {},
   "outputs": [],
   "source": [
    "import plotly.express as px\n",
    "fig = px.line(ts_df, x=\"date\", y=\"value\")\n",
    "fig.show()"
   ]
  }
 ],
 "metadata": {
  "kernelspec": {
   "display_name": "Python 3.10.12 64-bit",
   "language": "python",
   "name": "python3"
  },
  "language_info": {
   "codemirror_mode": {
    "name": "ipython",
    "version": 3
   },
   "file_extension": ".py",
   "mimetype": "text/x-python",
   "name": "python",
   "nbconvert_exporter": "python",
   "pygments_lexer": "ipython3",
   "version": "3.10.12"
  },
  "orig_nbformat": 4,
  "vscode": {
   "interpreter": {
    "hash": "e7370f93d1d0cde622a1f8e1c04877d8463912d04d973331ad4851f04de6915a"
   }
  }
 },
 "nbformat": 4,
 "nbformat_minor": 2
}
